{
 "cells": [
  {
   "cell_type": "markdown",
   "metadata": {},
   "source": [
    "# U.S. Medical Insurance Costs"
   ]
  },
  {
   "cell_type": "markdown",
   "metadata": {},
   "source": [
    "1. Look over your dataset\n",
    "\n",
    "- Open insurance.csv and take a look at the file"
   ]
  },
  {
   "cell_type": "markdown",
   "metadata": {},
   "source": [
    "2. Scoping to Project\n",
    "\n",
    "- Find out the average age of the patients in the dataset.\n",
    "- Analyze where a majority of the individuals are from.\n",
    "- Look at the different costs between smokers vs. non-smokers.\n",
    "- Figure out what the average age is for someone who has at least one child in this dataset."
   ]
  },
  {
   "cell_type": "markdown",
   "metadata": {},
   "source": [
    "3. Import your dataset\n",
    "4. Save your dataset via Python variables\n"
   ]
  },
  {
   "cell_type": "markdown",
   "metadata": {},
   "source": [
    "5. Build out analysis functions or class methods\n",
    "\n",
    "- averagaAge()\n",
    "- majorityIndividualsFrom()\n",
    "- diffCostsBetweenSmokersNonSmokers()\n",
    "- averageAgeWithChildrens()"
   ]
  },
  {
   "cell_type": "code",
   "execution_count": 16,
   "metadata": {},
   "outputs": [],
   "source": [
    "import csv\n",
    "insurances={}\n",
    "#3. Import insurance.csv into your Python file and inspect the contents\n",
    "with open('insurance.csv', newline='') as csvfile:\n",
    "    #4. Save the features of your dataset (the columns) from insurance.csv by storing them in variables that can be used for analysis\n",
    "    reader = csv.DictReader(csvfile)   \n",
    "    insurances = list(reader)"
   ]
  },
  {
   "cell_type": "code",
   "execution_count": 40,
   "metadata": {},
   "outputs": [
    {
     "data": {
      "text/plain": [
       "'southeast'"
      ]
     },
     "execution_count": 40,
     "metadata": {},
     "output_type": "execute_result"
    }
   ],
   "source": [
    "#5. Define analysis funtions\n",
    "\n",
    "#-Find out the average age of the patients in the dataset.\n",
    "def averagaAge():\n",
    "    #define variable to sum all ages \n",
    "    totalAge = 0\n",
    "    for row in insurances:\n",
    "        totalAge += int(row[\"age\"])\n",
    "        #return AVG age of patients\n",
    "    return int(totalAge / len(insurances))\n",
    "\n",
    "#- Analyze where a majority of the individuals are from.\n",
    "def majorityIndividualsFrom():\n",
    "    MayorFrom = \"\"\n",
    "    #Define Dict to save count by region\n",
    "    regions = {}\n",
    "    #set counter to every region \n",
    "    for row in insurances:\n",
    "        if not row[\"region\"] in regions: regions[row[\"region\"]]=0\n",
    "        regions[row[\"region\"]] += 1    \n",
    "    #Order Regions by values descending and get the first key\n",
    "    MayorFrom = list(dict(sorted(regions.items(), key=lambda x: x[1], reverse=True)).keys())[0]\n",
    "    return MayorFrom\n",
    "\n",
    "#averagaAge()\n",
    "#majorityIndividualsFrom()"
   ]
  },
  {
   "cell_type": "code",
   "execution_count": null,
   "metadata": {},
   "outputs": [],
   "source": []
  }
 ],
 "metadata": {
  "kernelspec": {
   "display_name": "Python 3 (ipykernel)",
   "language": "python",
   "name": "python3"
  },
  "language_info": {
   "codemirror_mode": {
    "name": "ipython",
    "version": 3
   },
   "file_extension": ".py",
   "mimetype": "text/x-python",
   "name": "python",
   "nbconvert_exporter": "python",
   "pygments_lexer": "ipython3",
   "version": "3.10.9"
  }
 },
 "nbformat": 4,
 "nbformat_minor": 4
}
