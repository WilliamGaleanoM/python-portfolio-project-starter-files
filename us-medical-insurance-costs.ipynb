{
 "cells": [
  {
   "cell_type": "markdown",
   "metadata": {},
   "source": [
    "# U.S. Medical Insurance Costs"
   ]
  },
  {
   "cell_type": "markdown",
   "metadata": {},
   "source": [
    "1. Look over your dataset\n",
    "\n",
    "- Open insurance.csv and take a look at the file"
   ]
  },
  {
   "cell_type": "markdown",
   "metadata": {},
   "source": [
    "2. Scoping to Project\n",
    "\n",
    "- Find out the average age of the patients in the dataset.\n",
    "- Analyze where a majority of the individuals are from.\n",
    "- Look at the different costs between smokers vs. non-smokers.\n",
    "- Figure out what the average age is for someone who has at least one child in this dataset."
   ]
  },
  {
   "cell_type": "markdown",
   "metadata": {},
   "source": [
    "3. Import your dataset\n",
    "4. Save your dataset via Python variables\n"
   ]
  },
  {
   "cell_type": "markdown",
   "metadata": {},
   "source": [
    "5. Build out analysis functions or class methods\n",
    "\n",
    "- averagaAge()\n",
    "- majorityIndividualsFrom()\n",
    "- diffCostsBetweenSmokersNonSmokers()\n",
    "- averageAgeWithChildrens()"
   ]
  },
  {
   "cell_type": "code",
   "execution_count": 31,
   "metadata": {},
   "outputs": [],
   "source": [
    "import csv\n",
    "insurances={}\n",
    "#3. Import insurance.csv into your Python file and inspect the contents\n",
    "with open('insurance.csv', newline='') as csvfile:\n",
    "    #4. Save the features of your dataset (the columns) from insurance.csv by storing them in variables that can be used for analysis\n",
    "    reader = csv.DictReader(csvfile)   \n",
    "    insurances = list(reader)\n",
    "    \n",
    "#5. Define analysis funtions\n",
    "\n",
    "#-Find out the average age of the patients in the dataset.\n",
    "def averagaAge():\n",
    "    #define variable to sum all ages \n",
    "    TotalAge = 0\n",
    "    for row in insurances:\n",
    "        TotalAge += int(row[\"age\"])\n",
    "        #return AVG age of patients\n",
    "    return \"The average age of the patients is \" + str(int(TotalAge / len(insurances)))\n",
    "\n",
    "#- Analyze where a majority of the individuals are from.\n",
    "def majorityIndividualsFrom():\n",
    "    MayorFrom = \"\"\n",
    "    #Define Dict to save count by region\n",
    "    regions = {}\n",
    "    #set counter to every region \n",
    "    for row in insurances:\n",
    "        if not row[\"region\"] in regions: regions[row[\"region\"]]=0\n",
    "        regions[row[\"region\"]] += 1    \n",
    "    #Order Regions by values descending and get the first key\n",
    "    MayorFrom = list(dict(sorted(regions.items(), key=lambda x: x[1], reverse=True)).keys())[0]\n",
    "    return \"The majority of the individuals are from {_from}\".format(_from = MayorFrom)\n",
    "\n",
    "def diffCostsBetweenSmokersNonSmokers():\n",
    "    Diff = \"\"\n",
    "    #Define Dict to save sum by Smoker= \"yes\" or Non-Smoker = \"no\"\n",
    "    CostSmokerYesOrNot = {\"yes\" : 0, \"no\" : 0}\n",
    "    #set sum to every Smoker= \"yes\" or Non-Smoker = \"no\" into CostSmokerYesOrNot\n",
    "    for row in insurances:\n",
    "        CostSmokerYesOrNot[row[\"smoker\"]] += float(row[\"charges\"])\n",
    "    #print(CostSmokerYesOrNot)\n",
    "    #Set diff between Smokers or Non-Smokers\n",
    "    Diff = CostSmokerYesOrNot[\"yes\"] - CostSmokerYesOrNot[\"no\"]\n",
    "    return \"The different costs between smokers vs. non-smokers is {diff}\".format(diff =Diff)\n",
    "\n",
    "def averageAgeWithChildrens():\n",
    "    #define variable to sum all ages when have least one a child\n",
    "    TotalAge = 0\n",
    "    CanPatiens = 0\n",
    "    for row in insurances:\n",
    "        if int(row[\"children\"]) >=1:\n",
    "            TotalAge += int(row[\"age\"])\n",
    "            CanPatiens +=1\n",
    "    #print(CanPatiens)\n",
    "    #return AVG age \n",
    "    return \"The average age when have least one a child is \" + str(int(TotalAge / CanPatiens))"
   ]
  },
  {
   "cell_type": "code",
   "execution_count": 32,
   "metadata": {},
   "outputs": [
    {
     "data": {
      "text/plain": [
       "'The average age of the patients is 39'"
      ]
     },
     "execution_count": 32,
     "metadata": {},
     "output_type": "execute_result"
    }
   ],
   "source": [
    "averagaAge()"
   ]
  },
  {
   "cell_type": "code",
   "execution_count": 33,
   "metadata": {},
   "outputs": [
    {
     "data": {
      "text/plain": [
       "'The majority of the individuals are from southeast'"
      ]
     },
     "execution_count": 33,
     "metadata": {},
     "output_type": "execute_result"
    }
   ],
   "source": [
    "majorityIndividualsFrom()"
   ]
  },
  {
   "cell_type": "code",
   "execution_count": 34,
   "metadata": {},
   "outputs": [
    {
     "data": {
      "text/plain": [
       "'The different costs between smokers vs. non-smokers is -192297.9470789954'"
      ]
     },
     "execution_count": 34,
     "metadata": {},
     "output_type": "execute_result"
    }
   ],
   "source": [
    "diffCostsBetweenSmokersNonSmokers()"
   ]
  },
  {
   "cell_type": "code",
   "execution_count": 35,
   "metadata": {},
   "outputs": [
    {
     "data": {
      "text/plain": [
       "'The average age when have least one a child is 39'"
      ]
     },
     "execution_count": 35,
     "metadata": {},
     "output_type": "execute_result"
    }
   ],
   "source": [
    "averageAgeWithChildrens()"
   ]
  },
  {
   "cell_type": "code",
   "execution_count": null,
   "metadata": {},
   "outputs": [],
   "source": []
  }
 ],
 "metadata": {
  "kernelspec": {
   "display_name": "Python 3 (ipykernel)",
   "language": "python",
   "name": "python3"
  },
  "language_info": {
   "codemirror_mode": {
    "name": "ipython",
    "version": 3
   },
   "file_extension": ".py",
   "mimetype": "text/x-python",
   "name": "python",
   "nbconvert_exporter": "python",
   "pygments_lexer": "ipython3",
   "version": "3.10.9"
  }
 },
 "nbformat": 4,
 "nbformat_minor": 4
}
